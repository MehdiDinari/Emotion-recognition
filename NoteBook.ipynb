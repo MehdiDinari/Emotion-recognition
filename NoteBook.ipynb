{
 "cells": [
  {
   "metadata": {
    "ExecuteTime": {
     "end_time": "2025-03-08T00:00:06.878794Z",
     "start_time": "2025-03-07T23:59:56.730861Z"
    }
   },
   "cell_type": "code",
   "source": [
    "import cv2\n",
    "import os\n",
    "\n",
    "# Get the correct path to the Haar cascade file\n",
    "# Option 1: Use OpenCV's built-in cascades\n",
    "haar_cascade_path = cv2.data.haarcascades + 'haarcascade_frontalface_default.xml'\n",
    "\n",
    "# Option 2: If you have the file in your current directory\n",
    "# haar_cascade_path = 'haarcascade_frontalface_default.xml'\n",
    "\n",
    "# Print the path to verify\n",
    "print(f\"Looking for cascade file at: {haar_cascade_path}\")\n",
    "print(f\"File exists: {os.path.exists(haar_cascade_path)}\")\n",
    "\n",
    "# Load the face cascade classifier\n",
    "face_cap = cv2.CascadeClassifier(haar_cascade_path)\n",
    "\n",
    "# Check if cascade classifier loaded successfully\n",
    "if face_cap.empty():\n",
    "    print(\"Error: Could not load face cascade classifier\")\n",
    "    print(\"Please check if the XML file exists at the specified path\")\n",
    "    exit()\n",
    "\n",
    "# Open the default camera\n",
    "video_cap = cv2.VideoCapture(0)\n",
    "\n",
    "# Check if camera opened successfully\n",
    "if not video_cap.isOpened():\n",
    "    print(\"Error: Could not open camera.\")\n",
    "    exit()\n",
    "\n",
    "# Process video frames\n",
    "while True:\n",
    "    # Read a frame\n",
    "    ret, video_data = video_cap.read()\n",
    "    \n",
    "    # If frame was not read correctly, break the loop\n",
    "    if not ret:\n",
    "        print(\"Error: Failed to capture frame.\")\n",
    "        break\n",
    "        \n",
    "    # Convert to grayscale\n",
    "    col = cv2.cvtColor(video_data, cv2.COLOR_BGR2GRAY)\n",
    "    \n",
    "    # Detect faces\n",
    "    faces = face_cap.detectMultiScale(\n",
    "        col, scaleFactor=1.1, minNeighbors=5, minSize=(30, 30), flags=cv2.CASCADE_SCALE_IMAGE\n",
    "    )\n",
    "    \n",
    "    # Draw rectangles around faces\n",
    "    for (x, y, w, h) in faces:\n",
    "        cv2.rectangle(video_data, (x, y), (x+w, y+h), (0, 255, 0), 2)\n",
    "    \n",
    "    # Display the result\n",
    "    cv2.imshow('Video_live', video_data)\n",
    "    \n",
    "    # Break loop if 'a' key is pressed\n",
    "    if cv2.waitKey(10) == ord('a'):\n",
    "        break\n",
    "\n",
    "# Release resources\n",
    "video_cap.release()\n",
    "cv2.destroyAllWindows()"
   ],
   "id": "f9f52c4b868da702",
   "outputs": [
    {
     "name": "stdout",
     "output_type": "stream",
     "text": [
      "Looking for cascade file at: C:\\Users\\Fddkk\\PycharmProjects\\LOAN\\.venv\\Lib\\site-packages\\cv2\\data\\haarcascade_frontalface_default.xml\n",
      "File exists: True\n"
     ]
    }
   ],
   "execution_count": 6
  },
  {
   "metadata": {},
   "cell_type": "code",
   "outputs": [],
   "execution_count": null,
   "source": "",
   "id": "5d8b6cbb6f80aedd"
  }
 ],
 "metadata": {
  "kernelspec": {
   "display_name": "Python 3",
   "language": "python",
   "name": "python3"
  },
  "language_info": {
   "codemirror_mode": {
    "name": "ipython",
    "version": 2
   },
   "file_extension": ".py",
   "mimetype": "text/x-python",
   "name": "python",
   "nbconvert_exporter": "python",
   "pygments_lexer": "ipython2",
   "version": "2.7.6"
  }
 },
 "nbformat": 4,
 "nbformat_minor": 5
}
